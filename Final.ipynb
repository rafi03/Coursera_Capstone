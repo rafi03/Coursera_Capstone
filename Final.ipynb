{
 "cells": [
  {
   "cell_type": "code",
   "execution_count": 1,
   "metadata": {},
   "outputs": [
    {
     "name": "stdout",
     "output_type": "stream",
     "text": [
      "Libraries imported.\n"
     ]
    }
   ],
   "source": [
    "import numpy as np\n",
    "import pandas as pd\n",
    "import json\n",
    "from geopy.geocoders import Nominatim\n",
    "from geopy.geocoders import Nominatim\n",
    "import geocoder\n",
    "from bs4 import BeautifulSoup\n",
    "from urllib.request import urlopen\n",
    "import requests\n",
    "from pandas.io.json import json_normalize\n",
    "import matplotlib.cm as cm\n",
    "import matplotlib.colors as colors\n",
    "from sklearn.cluster import KMeans\n",
    "import folium\n",
    "print('Libraries imported.')"
   ]
  },
  {
   "cell_type": "code",
   "execution_count": 5,
   "metadata": {},
   "outputs": [
    {
     "data": {
      "text/html": [
       "<div>\n",
       "<style scoped>\n",
       "    .dataframe tbody tr th:only-of-type {\n",
       "        vertical-align: middle;\n",
       "    }\n",
       "\n",
       "    .dataframe tbody tr th {\n",
       "        vertical-align: top;\n",
       "    }\n",
       "\n",
       "    .dataframe thead th {\n",
       "        text-align: right;\n",
       "    }\n",
       "</style>\n",
       "<table border=\"1\" class=\"dataframe\">\n",
       "  <thead>\n",
       "    <tr style=\"text-align: right;\">\n",
       "      <th></th>\n",
       "      <th>Neighborhood</th>\n",
       "      <th>Latitude</th>\n",
       "      <th>Longitude</th>\n",
       "    </tr>\n",
       "  </thead>\n",
       "  <tbody>\n",
       "    <tr>\n",
       "      <th>0</th>\n",
       "      <td>Andheri</td>\n",
       "      <td>19.118459</td>\n",
       "      <td>72.841763</td>\n",
       "    </tr>\n",
       "    <tr>\n",
       "      <th>1</th>\n",
       "      <td>Anushakti Nagar</td>\n",
       "      <td>19.042830</td>\n",
       "      <td>72.927340</td>\n",
       "    </tr>\n",
       "    <tr>\n",
       "      <th>2</th>\n",
       "      <td>Baiganwadi</td>\n",
       "      <td>19.062940</td>\n",
       "      <td>72.926630</td>\n",
       "    </tr>\n",
       "    <tr>\n",
       "      <th>3</th>\n",
       "      <td>Bandra</td>\n",
       "      <td>19.054370</td>\n",
       "      <td>72.840170</td>\n",
       "    </tr>\n",
       "    <tr>\n",
       "      <th>4</th>\n",
       "      <td>Bhandup</td>\n",
       "      <td>19.145560</td>\n",
       "      <td>72.948560</td>\n",
       "    </tr>\n",
       "  </tbody>\n",
       "</table>\n",
       "</div>"
      ],
      "text/plain": [
       "      Neighborhood   Latitude  Longitude\n",
       "0          Andheri  19.118459  72.841763\n",
       "1  Anushakti Nagar  19.042830  72.927340\n",
       "2       Baiganwadi  19.062940  72.926630\n",
       "3           Bandra  19.054370  72.840170\n",
       "4          Bhandup  19.145560  72.948560"
      ]
     },
     "execution_count": 5,
     "metadata": {},
     "output_type": "execute_result"
    }
   ],
   "source": [
    "data = requests.get(\"https://en.wikipedia.org/wiki/Category:Suburbs_of_Mumbai\").text\n",
    "soup = BeautifulSoup(data, 'html.parser')\n",
    "neighborhoodList = []\n",
    "for row in soup.find_all(\"div\", class_=\"mw-category\")[0].findAll(\"li\"):\n",
    "    neighborhoodList.append(row.text)\n",
    "kl_df = pd.DataFrame({\"Neighborhood\": neighborhoodList})\n",
    "def get_latlng(neighborhood):\n",
    "    lat_lng_coords = None\n",
    "    while(lat_lng_coords is None):\n",
    "        g = geocoder.arcgis('{}, Mumbai, India'.format(neighborhood))\n",
    "        lat_lng_coords = g.latlng\n",
    "    return lat_lng_coords\n",
    "coords = [ get_latlng(neighborhood) for neighborhood in kl_df[\"Neighborhood\"].tolist() ]\n",
    "df_coords = pd.DataFrame(coords, columns=['Latitude', 'Longitude'])\n",
    "kl_df['Latitude'] = df_coords['Latitude']\n",
    "kl_df['Longitude'] = df_coords['Longitude']\n",
    "kl_df.head()\n"
   ]
  },
  {
   "cell_type": "code",
   "execution_count": 6,
   "metadata": {},
   "outputs": [
    {
     "name": "stdout",
     "output_type": "stream",
     "text": [
      "The geograpical coordinate of Mumbai 18.9387711, 72.8353355.\n"
     ]
    }
   ],
   "source": [
    "address = 'Mumbai, India'\n",
    "geolocator = Nominatim(user_agent=\"my-application\")\n",
    "location = geolocator.geocode(address)\n",
    "latitude = location.latitude\n",
    "longitude = location.longitude\n",
    "print('The geograpical coordinate of Mumbai {}, {}.'.format(latitude, longitude))"
   ]
  },
  {
   "cell_type": "code",
   "execution_count": null,
   "metadata": {},
   "outputs": [],
   "source": []
  },
  {
   "cell_type": "code",
   "execution_count": 8,
   "metadata": {},
   "outputs": [
    {
     "name": "stdout",
     "output_type": "stream",
     "text": [
      "Your credentails:\n",
      "CLIENT_ID: J2HRL5UW01505JZ1TIF0T45AYZYHMXGEB2VXHRTOC3XT1OVV\n",
      "CLIENT_SECRET:DOA1LVGX0RDHXLZOJPMEHRHRWR2Z25VKMLGMJ2MRSGMYE0QO\n"
     ]
    }
   ],
   "source": [
    "CLIENT_ID = 'J2HRL5UW01505JZ1TIF0T45AYZYHMXGEB2VXHRTOC3XT1OVV' # your Foursquare ID\n",
    "CLIENT_SECRET = 'DOA1LVGX0RDHXLZOJPMEHRHRWR2Z25VKMLGMJ2MRSGMYE0QO' # your Foursquare Secret\n",
    "VERSION = '20180605' # Foursquare API version\n",
    "\n",
    "print('Your credentails:')\n",
    "print('CLIENT_ID: ' + CLIENT_ID)\n",
    "print('CLIENT_SECRET:' + CLIENT_SECRET)"
   ]
  },
  {
   "cell_type": "code",
   "execution_count": 9,
   "metadata": {},
   "outputs": [
    {
     "data": {
      "text/html": [
       "<div>\n",
       "<style scoped>\n",
       "    .dataframe tbody tr th:only-of-type {\n",
       "        vertical-align: middle;\n",
       "    }\n",
       "\n",
       "    .dataframe tbody tr th {\n",
       "        vertical-align: top;\n",
       "    }\n",
       "\n",
       "    .dataframe thead th {\n",
       "        text-align: right;\n",
       "    }\n",
       "</style>\n",
       "<table border=\"1\" class=\"dataframe\">\n",
       "  <thead>\n",
       "    <tr style=\"text-align: right;\">\n",
       "      <th></th>\n",
       "      <th>Neighborhood</th>\n",
       "      <th>Latitude</th>\n",
       "      <th>Longitude</th>\n",
       "      <th>VenueName</th>\n",
       "      <th>VenueLatitude</th>\n",
       "      <th>VenueLongitude</th>\n",
       "      <th>VenueCategory</th>\n",
       "    </tr>\n",
       "  </thead>\n",
       "  <tbody>\n",
       "    <tr>\n",
       "      <th>0</th>\n",
       "      <td>Andheri</td>\n",
       "      <td>19.118459</td>\n",
       "      <td>72.841763</td>\n",
       "      <td>Merwans Cake shop</td>\n",
       "      <td>19.119300</td>\n",
       "      <td>72.845418</td>\n",
       "      <td>Bakery</td>\n",
       "    </tr>\n",
       "    <tr>\n",
       "      <th>1</th>\n",
       "      <td>Andheri</td>\n",
       "      <td>19.118459</td>\n",
       "      <td>72.841763</td>\n",
       "      <td>Radha Krishna Veg Restaurant</td>\n",
       "      <td>19.115130</td>\n",
       "      <td>72.843060</td>\n",
       "      <td>Indian Restaurant</td>\n",
       "    </tr>\n",
       "    <tr>\n",
       "      <th>2</th>\n",
       "      <td>Andheri</td>\n",
       "      <td>19.118459</td>\n",
       "      <td>72.841763</td>\n",
       "      <td>Naturals</td>\n",
       "      <td>19.111204</td>\n",
       "      <td>72.837255</td>\n",
       "      <td>Ice Cream Shop</td>\n",
       "    </tr>\n",
       "    <tr>\n",
       "      <th>3</th>\n",
       "      <td>Andheri</td>\n",
       "      <td>19.118459</td>\n",
       "      <td>72.841763</td>\n",
       "      <td>Shawarma Factory</td>\n",
       "      <td>19.124591</td>\n",
       "      <td>72.840398</td>\n",
       "      <td>Falafel Restaurant</td>\n",
       "    </tr>\n",
       "    <tr>\n",
       "      <th>4</th>\n",
       "      <td>Andheri</td>\n",
       "      <td>19.118459</td>\n",
       "      <td>72.841763</td>\n",
       "      <td>Temptations</td>\n",
       "      <td>19.113767</td>\n",
       "      <td>72.841337</td>\n",
       "      <td>Ice Cream Shop</td>\n",
       "    </tr>\n",
       "  </tbody>\n",
       "</table>\n",
       "</div>"
      ],
      "text/plain": [
       "  Neighborhood   Latitude  Longitude                     VenueName  \\\n",
       "0      Andheri  19.118459  72.841763             Merwans Cake shop   \n",
       "1      Andheri  19.118459  72.841763  Radha Krishna Veg Restaurant   \n",
       "2      Andheri  19.118459  72.841763                      Naturals   \n",
       "3      Andheri  19.118459  72.841763              Shawarma Factory   \n",
       "4      Andheri  19.118459  72.841763                   Temptations   \n",
       "\n",
       "   VenueLatitude  VenueLongitude       VenueCategory  \n",
       "0      19.119300       72.845418              Bakery  \n",
       "1      19.115130       72.843060   Indian Restaurant  \n",
       "2      19.111204       72.837255      Ice Cream Shop  \n",
       "3      19.124591       72.840398  Falafel Restaurant  \n",
       "4      19.113767       72.841337      Ice Cream Shop  "
      ]
     },
     "execution_count": 9,
     "metadata": {},
     "output_type": "execute_result"
    }
   ],
   "source": [
    "radius = 2000\n",
    "LIMIT = 100\n",
    "\n",
    "venues = []\n",
    "\n",
    "for lat, long, neighborhood in zip(kl_df['Latitude'], kl_df['Longitude'], kl_df['Neighborhood']):\n",
    "    \n",
    "    # create the API request URL\n",
    "    url = \"https://api.foursquare.com/v2/venues/explore?client_id={}&client_secret={}&v={}&ll={},{}&radius={}&limit={}\".format(\n",
    "        CLIENT_ID,\n",
    "        CLIENT_SECRET,\n",
    "        VERSION,\n",
    "        lat,\n",
    "        long,\n",
    "        radius, \n",
    "        LIMIT)\n",
    "    \n",
    "    # make the GET request\n",
    "    results = requests.get(url).json()[\"response\"]['groups'][0]['items']\n",
    "    \n",
    "    # return only relevant information for each nearby venue\n",
    "    for venue in results:\n",
    "        venues.append((\n",
    "            neighborhood,\n",
    "            lat, \n",
    "            long, \n",
    "            venue['venue']['name'], \n",
    "            venue['venue']['location']['lat'], \n",
    "            venue['venue']['location']['lng'],  \n",
    "            venue['venue']['categories'][0]['name']))\n",
    "\n",
    "venues_df = pd.DataFrame(venues)\n",
    "venues_df.columns = ['Neighborhood', 'Latitude', 'Longitude', 'VenueName', 'VenueLatitude', 'VenueLongitude', 'VenueCategory']\n",
    "venues_df.head()"
   ]
  },
  {
   "cell_type": "code",
   "execution_count": 10,
   "metadata": {},
   "outputs": [
    {
     "data": {
      "text/html": [
       "<div>\n",
       "<style scoped>\n",
       "    .dataframe tbody tr th:only-of-type {\n",
       "        vertical-align: middle;\n",
       "    }\n",
       "\n",
       "    .dataframe tbody tr th {\n",
       "        vertical-align: top;\n",
       "    }\n",
       "\n",
       "    .dataframe thead th {\n",
       "        text-align: right;\n",
       "    }\n",
       "</style>\n",
       "<table border=\"1\" class=\"dataframe\">\n",
       "  <thead>\n",
       "    <tr style=\"text-align: right;\">\n",
       "      <th></th>\n",
       "      <th>Neighborhoods</th>\n",
       "      <th>ATM</th>\n",
       "      <th>Accessories Store</th>\n",
       "      <th>Afghan Restaurant</th>\n",
       "      <th>American Restaurant</th>\n",
       "      <th>Antique Shop</th>\n",
       "      <th>Arcade</th>\n",
       "      <th>Arts &amp; Crafts Store</th>\n",
       "      <th>Asian Restaurant</th>\n",
       "      <th>Athletics &amp; Sports</th>\n",
       "      <th>...</th>\n",
       "      <th>Track</th>\n",
       "      <th>Trail</th>\n",
       "      <th>Train</th>\n",
       "      <th>Train Station</th>\n",
       "      <th>Travel &amp; Transport</th>\n",
       "      <th>Tunnel</th>\n",
       "      <th>Vegetarian / Vegan Restaurant</th>\n",
       "      <th>Wine Bar</th>\n",
       "      <th>Wine Shop</th>\n",
       "      <th>Women's Store</th>\n",
       "    </tr>\n",
       "  </thead>\n",
       "  <tbody>\n",
       "    <tr>\n",
       "      <th>0</th>\n",
       "      <td>Andheri</td>\n",
       "      <td>0.0</td>\n",
       "      <td>0.0</td>\n",
       "      <td>0.0</td>\n",
       "      <td>0.01</td>\n",
       "      <td>0.0</td>\n",
       "      <td>0.000000</td>\n",
       "      <td>0.0</td>\n",
       "      <td>0.02</td>\n",
       "      <td>0.01</td>\n",
       "      <td>...</td>\n",
       "      <td>0.0</td>\n",
       "      <td>0.0</td>\n",
       "      <td>0.0</td>\n",
       "      <td>0.000000</td>\n",
       "      <td>0.0</td>\n",
       "      <td>0.0000</td>\n",
       "      <td>0.010000</td>\n",
       "      <td>0.0</td>\n",
       "      <td>0.0</td>\n",
       "      <td>0.01</td>\n",
       "    </tr>\n",
       "    <tr>\n",
       "      <th>1</th>\n",
       "      <td>Anushakti Nagar</td>\n",
       "      <td>0.0</td>\n",
       "      <td>0.0</td>\n",
       "      <td>0.0</td>\n",
       "      <td>0.00</td>\n",
       "      <td>0.0</td>\n",
       "      <td>0.000000</td>\n",
       "      <td>0.0</td>\n",
       "      <td>0.00</td>\n",
       "      <td>0.00</td>\n",
       "      <td>...</td>\n",
       "      <td>0.0</td>\n",
       "      <td>0.0</td>\n",
       "      <td>0.0</td>\n",
       "      <td>0.000000</td>\n",
       "      <td>0.0</td>\n",
       "      <td>0.0625</td>\n",
       "      <td>0.000000</td>\n",
       "      <td>0.0</td>\n",
       "      <td>0.0</td>\n",
       "      <td>0.00</td>\n",
       "    </tr>\n",
       "    <tr>\n",
       "      <th>2</th>\n",
       "      <td>Baiganwadi</td>\n",
       "      <td>0.0</td>\n",
       "      <td>0.0</td>\n",
       "      <td>0.0</td>\n",
       "      <td>0.00</td>\n",
       "      <td>0.0</td>\n",
       "      <td>0.000000</td>\n",
       "      <td>0.0</td>\n",
       "      <td>0.00</td>\n",
       "      <td>0.00</td>\n",
       "      <td>...</td>\n",
       "      <td>0.0</td>\n",
       "      <td>0.0</td>\n",
       "      <td>0.0</td>\n",
       "      <td>0.000000</td>\n",
       "      <td>0.0</td>\n",
       "      <td>0.0000</td>\n",
       "      <td>0.000000</td>\n",
       "      <td>0.0</td>\n",
       "      <td>0.0</td>\n",
       "      <td>0.00</td>\n",
       "    </tr>\n",
       "    <tr>\n",
       "      <th>3</th>\n",
       "      <td>Bandra</td>\n",
       "      <td>0.0</td>\n",
       "      <td>0.0</td>\n",
       "      <td>0.0</td>\n",
       "      <td>0.00</td>\n",
       "      <td>0.0</td>\n",
       "      <td>0.020000</td>\n",
       "      <td>0.0</td>\n",
       "      <td>0.02</td>\n",
       "      <td>0.00</td>\n",
       "      <td>...</td>\n",
       "      <td>0.0</td>\n",
       "      <td>0.0</td>\n",
       "      <td>0.0</td>\n",
       "      <td>0.000000</td>\n",
       "      <td>0.0</td>\n",
       "      <td>0.0000</td>\n",
       "      <td>0.000000</td>\n",
       "      <td>0.0</td>\n",
       "      <td>0.0</td>\n",
       "      <td>0.00</td>\n",
       "    </tr>\n",
       "    <tr>\n",
       "      <th>4</th>\n",
       "      <td>Bhandup</td>\n",
       "      <td>0.0</td>\n",
       "      <td>0.0</td>\n",
       "      <td>0.0</td>\n",
       "      <td>0.00</td>\n",
       "      <td>0.0</td>\n",
       "      <td>0.043478</td>\n",
       "      <td>0.0</td>\n",
       "      <td>0.00</td>\n",
       "      <td>0.00</td>\n",
       "      <td>...</td>\n",
       "      <td>0.0</td>\n",
       "      <td>0.0</td>\n",
       "      <td>0.0</td>\n",
       "      <td>0.130435</td>\n",
       "      <td>0.0</td>\n",
       "      <td>0.0000</td>\n",
       "      <td>0.043478</td>\n",
       "      <td>0.0</td>\n",
       "      <td>0.0</td>\n",
       "      <td>0.00</td>\n",
       "    </tr>\n",
       "  </tbody>\n",
       "</table>\n",
       "<p>5 rows × 200 columns</p>\n",
       "</div>"
      ],
      "text/plain": [
       "     Neighborhoods  ATM  Accessories Store  Afghan Restaurant  \\\n",
       "0          Andheri  0.0                0.0                0.0   \n",
       "1  Anushakti Nagar  0.0                0.0                0.0   \n",
       "2       Baiganwadi  0.0                0.0                0.0   \n",
       "3           Bandra  0.0                0.0                0.0   \n",
       "4          Bhandup  0.0                0.0                0.0   \n",
       "\n",
       "   American Restaurant  Antique Shop    Arcade  Arts & Crafts Store  \\\n",
       "0                 0.01           0.0  0.000000                  0.0   \n",
       "1                 0.00           0.0  0.000000                  0.0   \n",
       "2                 0.00           0.0  0.000000                  0.0   \n",
       "3                 0.00           0.0  0.020000                  0.0   \n",
       "4                 0.00           0.0  0.043478                  0.0   \n",
       "\n",
       "   Asian Restaurant  Athletics & Sports  ...  Track  Trail  Train  \\\n",
       "0              0.02                0.01  ...    0.0    0.0    0.0   \n",
       "1              0.00                0.00  ...    0.0    0.0    0.0   \n",
       "2              0.00                0.00  ...    0.0    0.0    0.0   \n",
       "3              0.02                0.00  ...    0.0    0.0    0.0   \n",
       "4              0.00                0.00  ...    0.0    0.0    0.0   \n",
       "\n",
       "   Train Station  Travel & Transport  Tunnel  Vegetarian / Vegan Restaurant  \\\n",
       "0       0.000000                 0.0  0.0000                       0.010000   \n",
       "1       0.000000                 0.0  0.0625                       0.000000   \n",
       "2       0.000000                 0.0  0.0000                       0.000000   \n",
       "3       0.000000                 0.0  0.0000                       0.000000   \n",
       "4       0.130435                 0.0  0.0000                       0.043478   \n",
       "\n",
       "   Wine Bar  Wine Shop  Women's Store  \n",
       "0       0.0        0.0           0.01  \n",
       "1       0.0        0.0           0.00  \n",
       "2       0.0        0.0           0.00  \n",
       "3       0.0        0.0           0.00  \n",
       "4       0.0        0.0           0.00  \n",
       "\n",
       "[5 rows x 200 columns]"
      ]
     },
     "execution_count": 10,
     "metadata": {},
     "output_type": "execute_result"
    }
   ],
   "source": [
    "kl_onehot = pd.get_dummies(venues_df[['VenueCategory']], prefix=\"\", prefix_sep=\"\")\n",
    "kl_onehot['Neighborhoods'] = venues_df['Neighborhood'] \n",
    "fixed_columns = [kl_onehot.columns[-1]] + list(kl_onehot.columns[:-1])\n",
    "kl_onehot = kl_onehot[fixed_columns]\n",
    "kl_grouped = kl_onehot.groupby([\"Neighborhoods\"]).mean().reset_index()\n",
    "kl_grouped.head()"
   ]
  },
  {
   "cell_type": "code",
   "execution_count": 11,
   "metadata": {},
   "outputs": [
    {
     "data": {
      "text/html": [
       "<div>\n",
       "<style scoped>\n",
       "    .dataframe tbody tr th:only-of-type {\n",
       "        vertical-align: middle;\n",
       "    }\n",
       "\n",
       "    .dataframe tbody tr th {\n",
       "        vertical-align: top;\n",
       "    }\n",
       "\n",
       "    .dataframe thead th {\n",
       "        text-align: right;\n",
       "    }\n",
       "</style>\n",
       "<table border=\"1\" class=\"dataframe\">\n",
       "  <thead>\n",
       "    <tr style=\"text-align: right;\">\n",
       "      <th></th>\n",
       "      <th>Neighborhoods</th>\n",
       "      <th>Shopping Mall</th>\n",
       "    </tr>\n",
       "  </thead>\n",
       "  <tbody>\n",
       "    <tr>\n",
       "      <th>0</th>\n",
       "      <td>Andheri</td>\n",
       "      <td>0.000000</td>\n",
       "    </tr>\n",
       "    <tr>\n",
       "      <th>1</th>\n",
       "      <td>Anushakti Nagar</td>\n",
       "      <td>0.000000</td>\n",
       "    </tr>\n",
       "    <tr>\n",
       "      <th>2</th>\n",
       "      <td>Baiganwadi</td>\n",
       "      <td>0.000000</td>\n",
       "    </tr>\n",
       "    <tr>\n",
       "      <th>3</th>\n",
       "      <td>Bandra</td>\n",
       "      <td>0.000000</td>\n",
       "    </tr>\n",
       "    <tr>\n",
       "      <th>4</th>\n",
       "      <td>Bhandup</td>\n",
       "      <td>0.043478</td>\n",
       "    </tr>\n",
       "  </tbody>\n",
       "</table>\n",
       "</div>"
      ],
      "text/plain": [
       "     Neighborhoods  Shopping Mall\n",
       "0          Andheri       0.000000\n",
       "1  Anushakti Nagar       0.000000\n",
       "2       Baiganwadi       0.000000\n",
       "3           Bandra       0.000000\n",
       "4          Bhandup       0.043478"
      ]
     },
     "execution_count": 11,
     "metadata": {},
     "output_type": "execute_result"
    }
   ],
   "source": [
    "kl_mall = kl_grouped[[\"Neighborhoods\",\"Shopping Mall\"]]\n",
    "kl_mall.head()"
   ]
  },
  {
   "cell_type": "code",
   "execution_count": 12,
   "metadata": {},
   "outputs": [
    {
     "data": {
      "text/html": [
       "<div>\n",
       "<style scoped>\n",
       "    .dataframe tbody tr th:only-of-type {\n",
       "        vertical-align: middle;\n",
       "    }\n",
       "\n",
       "    .dataframe tbody tr th {\n",
       "        vertical-align: top;\n",
       "    }\n",
       "\n",
       "    .dataframe thead th {\n",
       "        text-align: right;\n",
       "    }\n",
       "</style>\n",
       "<table border=\"1\" class=\"dataframe\">\n",
       "  <thead>\n",
       "    <tr style=\"text-align: right;\">\n",
       "      <th></th>\n",
       "      <th>Neighborhood</th>\n",
       "      <th>Shopping Mall</th>\n",
       "      <th>Cluster Labels</th>\n",
       "      <th>Latitude</th>\n",
       "      <th>Longitude</th>\n",
       "    </tr>\n",
       "  </thead>\n",
       "  <tbody>\n",
       "    <tr>\n",
       "      <th>0</th>\n",
       "      <td>Andheri</td>\n",
       "      <td>0.0</td>\n",
       "      <td>0</td>\n",
       "      <td>19.118459</td>\n",
       "      <td>72.841763</td>\n",
       "    </tr>\n",
       "    <tr>\n",
       "      <th>35</th>\n",
       "      <td>Tilak Nagar (Mumbai)</td>\n",
       "      <td>0.0</td>\n",
       "      <td>0</td>\n",
       "      <td>18.996160</td>\n",
       "      <td>72.852790</td>\n",
       "    </tr>\n",
       "    <tr>\n",
       "      <th>32</th>\n",
       "      <td>Sion, Mumbai</td>\n",
       "      <td>0.0</td>\n",
       "      <td>0</td>\n",
       "      <td>19.043410</td>\n",
       "      <td>72.863320</td>\n",
       "    </tr>\n",
       "    <tr>\n",
       "      <th>31</th>\n",
       "      <td>Shil Phata</td>\n",
       "      <td>0.0</td>\n",
       "      <td>0</td>\n",
       "      <td>19.146580</td>\n",
       "      <td>73.040050</td>\n",
       "    </tr>\n",
       "    <tr>\n",
       "      <th>30</th>\n",
       "      <td>Seven Bungalows</td>\n",
       "      <td>0.0</td>\n",
       "      <td>0</td>\n",
       "      <td>19.131342</td>\n",
       "      <td>72.816342</td>\n",
       "    </tr>\n",
       "  </tbody>\n",
       "</table>\n",
       "</div>"
      ],
      "text/plain": [
       "            Neighborhood  Shopping Mall  Cluster Labels   Latitude  Longitude\n",
       "0                Andheri            0.0               0  19.118459  72.841763\n",
       "35  Tilak Nagar (Mumbai)            0.0               0  18.996160  72.852790\n",
       "32          Sion, Mumbai            0.0               0  19.043410  72.863320\n",
       "31            Shil Phata            0.0               0  19.146580  73.040050\n",
       "30       Seven Bungalows            0.0               0  19.131342  72.816342"
      ]
     },
     "execution_count": 12,
     "metadata": {},
     "output_type": "execute_result"
    }
   ],
   "source": [
    "kclusters = 3\n",
    "kl_clustering = kl_mall.drop([\"Neighborhoods\"], 1)\n",
    "kmeans = KMeans(n_clusters=kclusters, random_state=0).fit(kl_clustering)\n",
    "kl_merged = kl_mall.copy()\n",
    "kl_merged[\"Cluster Labels\"] = kmeans.labels_\n",
    "kl_merged.rename(columns={\"Neighborhoods\": \"Neighborhood\"}, inplace=True)\n",
    "kl_merged = kl_merged.join(kl_df.set_index(\"Neighborhood\"), on=\"Neighborhood\")\n",
    "kl_merged.sort_values([\"Cluster Labels\"], inplace=True)\n",
    "kl_merged.head() "
   ]
  },
  {
   "cell_type": "code",
   "execution_count": 14,
   "metadata": {},
   "outputs": [
    {
     "data": {
      "text/plain": [
       "<folium.vector_layers.CircleMarker at 0x2866f497eb8>"
      ]
     },
     "execution_count": 14,
     "metadata": {},
     "output_type": "execute_result"
    },
    {
     "data": {
      "text/plain": [
       "<folium.vector_layers.CircleMarker at 0x2866e2675c0>"
      ]
     },
     "execution_count": 14,
     "metadata": {},
     "output_type": "execute_result"
    },
    {
     "data": {
      "text/plain": [
       "<folium.vector_layers.CircleMarker at 0x2866e267b38>"
      ]
     },
     "execution_count": 14,
     "metadata": {},
     "output_type": "execute_result"
    },
    {
     "data": {
      "text/plain": [
       "<folium.vector_layers.CircleMarker at 0x2866e267c50>"
      ]
     },
     "execution_count": 14,
     "metadata": {},
     "output_type": "execute_result"
    },
    {
     "data": {
      "text/plain": [
       "<folium.vector_layers.CircleMarker at 0x2866b4a7f98>"
      ]
     },
     "execution_count": 14,
     "metadata": {},
     "output_type": "execute_result"
    },
    {
     "data": {
      "text/plain": [
       "<folium.vector_layers.CircleMarker at 0x2866b4a7e10>"
      ]
     },
     "execution_count": 14,
     "metadata": {},
     "output_type": "execute_result"
    },
    {
     "data": {
      "text/plain": [
       "<folium.vector_layers.CircleMarker at 0x2866b4a74e0>"
      ]
     },
     "execution_count": 14,
     "metadata": {},
     "output_type": "execute_result"
    },
    {
     "data": {
      "text/plain": [
       "<folium.vector_layers.CircleMarker at 0x2866b4a7e48>"
      ]
     },
     "execution_count": 14,
     "metadata": {},
     "output_type": "execute_result"
    },
    {
     "data": {
      "text/plain": [
       "<folium.vector_layers.CircleMarker at 0x2866b4a7630>"
      ]
     },
     "execution_count": 14,
     "metadata": {},
     "output_type": "execute_result"
    },
    {
     "data": {
      "text/plain": [
       "<folium.vector_layers.CircleMarker at 0x2866e4d0f98>"
      ]
     },
     "execution_count": 14,
     "metadata": {},
     "output_type": "execute_result"
    },
    {
     "data": {
      "text/plain": [
       "<folium.vector_layers.CircleMarker at 0x2866e4d0710>"
      ]
     },
     "execution_count": 14,
     "metadata": {},
     "output_type": "execute_result"
    },
    {
     "data": {
      "text/plain": [
       "<folium.vector_layers.CircleMarker at 0x2866e4d04a8>"
      ]
     },
     "execution_count": 14,
     "metadata": {},
     "output_type": "execute_result"
    },
    {
     "data": {
      "text/plain": [
       "<folium.vector_layers.CircleMarker at 0x2866e4d0be0>"
      ]
     },
     "execution_count": 14,
     "metadata": {},
     "output_type": "execute_result"
    },
    {
     "data": {
      "text/plain": [
       "<folium.vector_layers.CircleMarker at 0x2866e4d0ba8>"
      ]
     },
     "execution_count": 14,
     "metadata": {},
     "output_type": "execute_result"
    },
    {
     "data": {
      "text/plain": [
       "<folium.vector_layers.CircleMarker at 0x2866e4d0438>"
      ]
     },
     "execution_count": 14,
     "metadata": {},
     "output_type": "execute_result"
    },
    {
     "data": {
      "text/plain": [
       "<folium.vector_layers.CircleMarker at 0x2866e4d0048>"
      ]
     },
     "execution_count": 14,
     "metadata": {},
     "output_type": "execute_result"
    },
    {
     "data": {
      "text/plain": [
       "<folium.vector_layers.CircleMarker at 0x2866e4d0668>"
      ]
     },
     "execution_count": 14,
     "metadata": {},
     "output_type": "execute_result"
    },
    {
     "data": {
      "text/plain": [
       "<folium.vector_layers.CircleMarker at 0x2866e4d0748>"
      ]
     },
     "execution_count": 14,
     "metadata": {},
     "output_type": "execute_result"
    },
    {
     "data": {
      "text/plain": [
       "<folium.vector_layers.CircleMarker at 0x2866f492860>"
      ]
     },
     "execution_count": 14,
     "metadata": {},
     "output_type": "execute_result"
    },
    {
     "data": {
      "text/plain": [
       "<folium.vector_layers.CircleMarker at 0x2866f492c18>"
      ]
     },
     "execution_count": 14,
     "metadata": {},
     "output_type": "execute_result"
    },
    {
     "data": {
      "text/plain": [
       "<folium.vector_layers.CircleMarker at 0x2866f492b70>"
      ]
     },
     "execution_count": 14,
     "metadata": {},
     "output_type": "execute_result"
    },
    {
     "data": {
      "text/plain": [
       "<folium.vector_layers.CircleMarker at 0x2866e1f8f60>"
      ]
     },
     "execution_count": 14,
     "metadata": {},
     "output_type": "execute_result"
    },
    {
     "data": {
      "text/plain": [
       "<folium.vector_layers.CircleMarker at 0x2866e1f8320>"
      ]
     },
     "execution_count": 14,
     "metadata": {},
     "output_type": "execute_result"
    },
    {
     "data": {
      "text/plain": [
       "<folium.vector_layers.CircleMarker at 0x2866e1f8a90>"
      ]
     },
     "execution_count": 14,
     "metadata": {},
     "output_type": "execute_result"
    },
    {
     "data": {
      "text/plain": [
       "<folium.vector_layers.CircleMarker at 0x2866e1f88d0>"
      ]
     },
     "execution_count": 14,
     "metadata": {},
     "output_type": "execute_result"
    },
    {
     "data": {
      "text/plain": [
       "<folium.vector_layers.CircleMarker at 0x2866e52b6a0>"
      ]
     },
     "execution_count": 14,
     "metadata": {},
     "output_type": "execute_result"
    },
    {
     "data": {
      "text/plain": [
       "<folium.vector_layers.CircleMarker at 0x2866e52ba58>"
      ]
     },
     "execution_count": 14,
     "metadata": {},
     "output_type": "execute_result"
    },
    {
     "data": {
      "text/plain": [
       "<folium.vector_layers.CircleMarker at 0x2866e52b080>"
      ]
     },
     "execution_count": 14,
     "metadata": {},
     "output_type": "execute_result"
    },
    {
     "data": {
      "text/plain": [
       "<folium.vector_layers.CircleMarker at 0x2866e52b198>"
      ]
     },
     "execution_count": 14,
     "metadata": {},
     "output_type": "execute_result"
    },
    {
     "data": {
      "text/plain": [
       "<folium.vector_layers.CircleMarker at 0x2866e52bc18>"
      ]
     },
     "execution_count": 14,
     "metadata": {},
     "output_type": "execute_result"
    },
    {
     "data": {
      "text/plain": [
       "<folium.vector_layers.CircleMarker at 0x2866e52be48>"
      ]
     },
     "execution_count": 14,
     "metadata": {},
     "output_type": "execute_result"
    },
    {
     "data": {
      "text/plain": [
       "<folium.vector_layers.CircleMarker at 0x2866ec68be0>"
      ]
     },
     "execution_count": 14,
     "metadata": {},
     "output_type": "execute_result"
    },
    {
     "data": {
      "text/plain": [
       "<folium.vector_layers.CircleMarker at 0x2866ec68da0>"
      ]
     },
     "execution_count": 14,
     "metadata": {},
     "output_type": "execute_result"
    },
    {
     "data": {
      "text/plain": [
       "<folium.vector_layers.CircleMarker at 0x2866ec68400>"
      ]
     },
     "execution_count": 14,
     "metadata": {},
     "output_type": "execute_result"
    },
    {
     "data": {
      "text/plain": [
       "<folium.vector_layers.CircleMarker at 0x2866ec687f0>"
      ]
     },
     "execution_count": 14,
     "metadata": {},
     "output_type": "execute_result"
    },
    {
     "data": {
      "text/plain": [
       "<folium.vector_layers.CircleMarker at 0x2866ec68ef0>"
      ]
     },
     "execution_count": 14,
     "metadata": {},
     "output_type": "execute_result"
    },
    {
     "data": {
      "text/plain": [
       "<folium.vector_layers.CircleMarker at 0x2866ec68f98>"
      ]
     },
     "execution_count": 14,
     "metadata": {},
     "output_type": "execute_result"
    },
    {
     "data": {
      "text/plain": [
       "<folium.vector_layers.CircleMarker at 0x2866ec68fd0>"
      ]
     },
     "execution_count": 14,
     "metadata": {},
     "output_type": "execute_result"
    },
    {
     "data": {
      "text/plain": [
       "<folium.vector_layers.CircleMarker at 0x2866e4f6d30>"
      ]
     },
     "execution_count": 14,
     "metadata": {},
     "output_type": "execute_result"
    },
    {
     "data": {
      "text/plain": [
       "<folium.vector_layers.CircleMarker at 0x2866e4f6a58>"
      ]
     },
     "execution_count": 14,
     "metadata": {},
     "output_type": "execute_result"
    },
    {
     "data": {
      "text/plain": [
       "<folium.vector_layers.CircleMarker at 0x2866e4f60f0>"
      ]
     },
     "execution_count": 14,
     "metadata": {},
     "output_type": "execute_result"
    },
    {
     "data": {
      "text/plain": [
       "<folium.vector_layers.CircleMarker at 0x2866e4f6390>"
      ]
     },
     "execution_count": 14,
     "metadata": {},
     "output_type": "execute_result"
    },
    {
     "data": {
      "text/html": [
       "<div style=\"width:100%;\"><div style=\"position:relative;width:100%;height:0;padding-bottom:60%;\"><iframe src=\"about:blank\" style=\"position:absolute;width:100%;height:100%;left:0;top:0;border:none !important;\" data-html=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 onload=\"this.contentDocument.open();this.contentDocument.write(atob(this.getAttribute('data-html')));this.contentDocument.close();\" allowfullscreen webkitallowfullscreen mozallowfullscreen></iframe></div></div>"
      ],
      "text/plain": [
       "<folium.folium.Map at 0x2866ea50ef0>"
      ]
     },
     "execution_count": 14,
     "metadata": {},
     "output_type": "execute_result"
    }
   ],
   "source": [
    "map_clusters = folium.Map(location=[latitude, longitude], zoom_start=10)\n",
    "x = np.arange(kclusters)\n",
    "ys = [i+x+(i*x)**2 for i in range(kclusters)]\n",
    "colors_array = cm.rainbow(np.linspace(0, 1, len(ys)))\n",
    "rainbow = [colors.rgb2hex(i) for i in colors_array]\n",
    "markers_colors = []\n",
    "for lat, lon, poi, cluster in zip(kl_merged['Latitude'], kl_merged['Longitude'], kl_merged['Neighborhood'], kl_merged['Cluster Labels']):\n",
    "    label = folium.Popup(str(poi) + ' - Cluster ' + str(cluster), parse_html=True)\n",
    "    folium.CircleMarker(\n",
    "        [lat, lon],\n",
    "        radius=5,\n",
    "        popup=label,\n",
    "        color=rainbow[cluster-1],\n",
    "        fill=True,\n",
    "        fill_color=rainbow[cluster-1],\n",
    "        fill_opacity=0.7).add_to(map_clusters)\n",
    "       \n",
    "map_clusters"
   ]
  },
  {
   "cell_type": "code",
   "execution_count": 15,
   "metadata": {},
   "outputs": [
    {
     "data": {
      "text/html": [
       "<div>\n",
       "<style scoped>\n",
       "    .dataframe tbody tr th:only-of-type {\n",
       "        vertical-align: middle;\n",
       "    }\n",
       "\n",
       "    .dataframe tbody tr th {\n",
       "        vertical-align: top;\n",
       "    }\n",
       "\n",
       "    .dataframe thead th {\n",
       "        text-align: right;\n",
       "    }\n",
       "</style>\n",
       "<table border=\"1\" class=\"dataframe\">\n",
       "  <thead>\n",
       "    <tr style=\"text-align: right;\">\n",
       "      <th></th>\n",
       "      <th>Neighborhood</th>\n",
       "      <th>Shopping Mall</th>\n",
       "      <th>Cluster Labels</th>\n",
       "      <th>Latitude</th>\n",
       "      <th>Longitude</th>\n",
       "    </tr>\n",
       "  </thead>\n",
       "  <tbody>\n",
       "    <tr>\n",
       "      <th>0</th>\n",
       "      <td>Andheri</td>\n",
       "      <td>0.0</td>\n",
       "      <td>0</td>\n",
       "      <td>19.118459</td>\n",
       "      <td>72.841763</td>\n",
       "    </tr>\n",
       "    <tr>\n",
       "      <th>35</th>\n",
       "      <td>Tilak Nagar (Mumbai)</td>\n",
       "      <td>0.0</td>\n",
       "      <td>0</td>\n",
       "      <td>18.996160</td>\n",
       "      <td>72.852790</td>\n",
       "    </tr>\n",
       "    <tr>\n",
       "      <th>32</th>\n",
       "      <td>Sion, Mumbai</td>\n",
       "      <td>0.0</td>\n",
       "      <td>0</td>\n",
       "      <td>19.043410</td>\n",
       "      <td>72.863320</td>\n",
       "    </tr>\n",
       "    <tr>\n",
       "      <th>31</th>\n",
       "      <td>Shil Phata</td>\n",
       "      <td>0.0</td>\n",
       "      <td>0</td>\n",
       "      <td>19.146580</td>\n",
       "      <td>73.040050</td>\n",
       "    </tr>\n",
       "    <tr>\n",
       "      <th>30</th>\n",
       "      <td>Seven Bungalows</td>\n",
       "      <td>0.0</td>\n",
       "      <td>0</td>\n",
       "      <td>19.131342</td>\n",
       "      <td>72.816342</td>\n",
       "    </tr>\n",
       "    <tr>\n",
       "      <th>28</th>\n",
       "      <td>Mumbra</td>\n",
       "      <td>0.0</td>\n",
       "      <td>0</td>\n",
       "      <td>19.167632</td>\n",
       "      <td>73.021408</td>\n",
       "    </tr>\n",
       "    <tr>\n",
       "      <th>26</th>\n",
       "      <td>Mogra Village</td>\n",
       "      <td>0.0</td>\n",
       "      <td>0</td>\n",
       "      <td>24.375900</td>\n",
       "      <td>75.954570</td>\n",
       "    </tr>\n",
       "    <tr>\n",
       "      <th>25</th>\n",
       "      <td>Mira Road</td>\n",
       "      <td>0.0</td>\n",
       "      <td>0</td>\n",
       "      <td>19.265674</td>\n",
       "      <td>72.870681</td>\n",
       "    </tr>\n",
       "    <tr>\n",
       "      <th>24</th>\n",
       "      <td>Matharpacady, Mumbai</td>\n",
       "      <td>0.0</td>\n",
       "      <td>0</td>\n",
       "      <td>18.950694</td>\n",
       "      <td>72.827268</td>\n",
       "    </tr>\n",
       "    <tr>\n",
       "      <th>23</th>\n",
       "      <td>Mankhurd</td>\n",
       "      <td>0.0</td>\n",
       "      <td>0</td>\n",
       "      <td>19.048530</td>\n",
       "      <td>72.932220</td>\n",
       "    </tr>\n",
       "    <tr>\n",
       "      <th>22</th>\n",
       "      <td>Mahavir Nagar (Kandivali)</td>\n",
       "      <td>0.0</td>\n",
       "      <td>0</td>\n",
       "      <td>19.210940</td>\n",
       "      <td>72.841370</td>\n",
       "    </tr>\n",
       "    <tr>\n",
       "      <th>21</th>\n",
       "      <td>Kurla</td>\n",
       "      <td>0.0</td>\n",
       "      <td>0</td>\n",
       "      <td>19.064980</td>\n",
       "      <td>72.880690</td>\n",
       "    </tr>\n",
       "    <tr>\n",
       "      <th>18</th>\n",
       "      <td>Kandivali</td>\n",
       "      <td>0.0</td>\n",
       "      <td>0</td>\n",
       "      <td>19.211982</td>\n",
       "      <td>72.837573</td>\n",
       "    </tr>\n",
       "    <tr>\n",
       "      <th>17</th>\n",
       "      <td>Kalyan</td>\n",
       "      <td>0.0</td>\n",
       "      <td>0</td>\n",
       "      <td>18.953937</td>\n",
       "      <td>72.820367</td>\n",
       "    </tr>\n",
       "    <tr>\n",
       "      <th>16</th>\n",
       "      <td>Juhu</td>\n",
       "      <td>0.0</td>\n",
       "      <td>0</td>\n",
       "      <td>19.014920</td>\n",
       "      <td>72.845220</td>\n",
       "    </tr>\n",
       "    <tr>\n",
       "      <th>20</th>\n",
       "      <td>Kausa</td>\n",
       "      <td>0.0</td>\n",
       "      <td>0</td>\n",
       "      <td>19.127580</td>\n",
       "      <td>72.825390</td>\n",
       "    </tr>\n",
       "    <tr>\n",
       "      <th>14</th>\n",
       "      <td>Grant Road</td>\n",
       "      <td>0.0</td>\n",
       "      <td>0</td>\n",
       "      <td>18.959290</td>\n",
       "      <td>72.831080</td>\n",
       "    </tr>\n",
       "    <tr>\n",
       "      <th>15</th>\n",
       "      <td>Jogeshwari</td>\n",
       "      <td>0.0</td>\n",
       "      <td>0</td>\n",
       "      <td>19.137920</td>\n",
       "      <td>72.849410</td>\n",
       "    </tr>\n",
       "    <tr>\n",
       "      <th>6</th>\n",
       "      <td>Charkop</td>\n",
       "      <td>0.0</td>\n",
       "      <td>0</td>\n",
       "      <td>19.208660</td>\n",
       "      <td>72.826120</td>\n",
       "    </tr>\n",
       "    <tr>\n",
       "      <th>1</th>\n",
       "      <td>Anushakti Nagar</td>\n",
       "      <td>0.0</td>\n",
       "      <td>0</td>\n",
       "      <td>19.042830</td>\n",
       "      <td>72.927340</td>\n",
       "    </tr>\n",
       "    <tr>\n",
       "      <th>3</th>\n",
       "      <td>Bandra</td>\n",
       "      <td>0.0</td>\n",
       "      <td>0</td>\n",
       "      <td>19.054370</td>\n",
       "      <td>72.840170</td>\n",
       "    </tr>\n",
       "    <tr>\n",
       "      <th>10</th>\n",
       "      <td>Dombivli</td>\n",
       "      <td>0.0</td>\n",
       "      <td>0</td>\n",
       "      <td>19.212750</td>\n",
       "      <td>73.083240</td>\n",
       "    </tr>\n",
       "    <tr>\n",
       "      <th>8</th>\n",
       "      <td>Dahisar</td>\n",
       "      <td>0.0</td>\n",
       "      <td>0</td>\n",
       "      <td>19.250030</td>\n",
       "      <td>72.859070</td>\n",
       "    </tr>\n",
       "    <tr>\n",
       "      <th>11</th>\n",
       "      <td>Eastern Suburbs (Mumbai)</td>\n",
       "      <td>0.0</td>\n",
       "      <td>0</td>\n",
       "      <td>19.004270</td>\n",
       "      <td>72.855792</td>\n",
       "    </tr>\n",
       "    <tr>\n",
       "      <th>2</th>\n",
       "      <td>Baiganwadi</td>\n",
       "      <td>0.0</td>\n",
       "      <td>0</td>\n",
       "      <td>19.062940</td>\n",
       "      <td>72.926630</td>\n",
       "    </tr>\n",
       "  </tbody>\n",
       "</table>\n",
       "</div>"
      ],
      "text/plain": [
       "                 Neighborhood  Shopping Mall  Cluster Labels   Latitude  \\\n",
       "0                     Andheri            0.0               0  19.118459   \n",
       "35       Tilak Nagar (Mumbai)            0.0               0  18.996160   \n",
       "32               Sion, Mumbai            0.0               0  19.043410   \n",
       "31                 Shil Phata            0.0               0  19.146580   \n",
       "30            Seven Bungalows            0.0               0  19.131342   \n",
       "28                     Mumbra            0.0               0  19.167632   \n",
       "26              Mogra Village            0.0               0  24.375900   \n",
       "25                  Mira Road            0.0               0  19.265674   \n",
       "24       Matharpacady, Mumbai            0.0               0  18.950694   \n",
       "23                   Mankhurd            0.0               0  19.048530   \n",
       "22  Mahavir Nagar (Kandivali)            0.0               0  19.210940   \n",
       "21                      Kurla            0.0               0  19.064980   \n",
       "18                  Kandivali            0.0               0  19.211982   \n",
       "17                     Kalyan            0.0               0  18.953937   \n",
       "16                       Juhu            0.0               0  19.014920   \n",
       "20                      Kausa            0.0               0  19.127580   \n",
       "14                 Grant Road            0.0               0  18.959290   \n",
       "15                 Jogeshwari            0.0               0  19.137920   \n",
       "6                     Charkop            0.0               0  19.208660   \n",
       "1             Anushakti Nagar            0.0               0  19.042830   \n",
       "3                      Bandra            0.0               0  19.054370   \n",
       "10                   Dombivli            0.0               0  19.212750   \n",
       "8                     Dahisar            0.0               0  19.250030   \n",
       "11   Eastern Suburbs (Mumbai)            0.0               0  19.004270   \n",
       "2                  Baiganwadi            0.0               0  19.062940   \n",
       "\n",
       "    Longitude  \n",
       "0   72.841763  \n",
       "35  72.852790  \n",
       "32  72.863320  \n",
       "31  73.040050  \n",
       "30  72.816342  \n",
       "28  73.021408  \n",
       "26  75.954570  \n",
       "25  72.870681  \n",
       "24  72.827268  \n",
       "23  72.932220  \n",
       "22  72.841370  \n",
       "21  72.880690  \n",
       "18  72.837573  \n",
       "17  72.820367  \n",
       "16  72.845220  \n",
       "20  72.825390  \n",
       "14  72.831080  \n",
       "15  72.849410  \n",
       "6   72.826120  \n",
       "1   72.927340  \n",
       "3   72.840170  \n",
       "10  73.083240  \n",
       "8   72.859070  \n",
       "11  72.855792  \n",
       "2   72.926630  "
      ]
     },
     "execution_count": 15,
     "metadata": {},
     "output_type": "execute_result"
    }
   ],
   "source": [
    "kl_merged.loc[kl_merged['Cluster Labels'] == 0]"
   ]
  },
  {
   "cell_type": "code",
   "execution_count": 16,
   "metadata": {},
   "outputs": [
    {
     "data": {
      "text/html": [
       "<div>\n",
       "<style scoped>\n",
       "    .dataframe tbody tr th:only-of-type {\n",
       "        vertical-align: middle;\n",
       "    }\n",
       "\n",
       "    .dataframe tbody tr th {\n",
       "        vertical-align: top;\n",
       "    }\n",
       "\n",
       "    .dataframe thead th {\n",
       "        text-align: right;\n",
       "    }\n",
       "</style>\n",
       "<table border=\"1\" class=\"dataframe\">\n",
       "  <thead>\n",
       "    <tr style=\"text-align: right;\">\n",
       "      <th></th>\n",
       "      <th>Neighborhood</th>\n",
       "      <th>Shopping Mall</th>\n",
       "      <th>Cluster Labels</th>\n",
       "      <th>Latitude</th>\n",
       "      <th>Longitude</th>\n",
       "    </tr>\n",
       "  </thead>\n",
       "  <tbody>\n",
       "    <tr>\n",
       "      <th>36</th>\n",
       "      <td>Uttan</td>\n",
       "      <td>0.047619</td>\n",
       "      <td>1</td>\n",
       "      <td>26.86634</td>\n",
       "      <td>80.93884</td>\n",
       "    </tr>\n",
       "    <tr>\n",
       "      <th>19</th>\n",
       "      <td>Kanjurmarg</td>\n",
       "      <td>0.034483</td>\n",
       "      <td>1</td>\n",
       "      <td>19.13138</td>\n",
       "      <td>72.93568</td>\n",
       "    </tr>\n",
       "    <tr>\n",
       "      <th>38</th>\n",
       "      <td>Vikhroli</td>\n",
       "      <td>0.030000</td>\n",
       "      <td>1</td>\n",
       "      <td>19.11109</td>\n",
       "      <td>72.92781</td>\n",
       "    </tr>\n",
       "    <tr>\n",
       "      <th>27</th>\n",
       "      <td>Mulund</td>\n",
       "      <td>0.038961</td>\n",
       "      <td>1</td>\n",
       "      <td>19.17183</td>\n",
       "      <td>72.95565</td>\n",
       "    </tr>\n",
       "    <tr>\n",
       "      <th>34</th>\n",
       "      <td>Thakur village</td>\n",
       "      <td>0.034483</td>\n",
       "      <td>1</td>\n",
       "      <td>19.21020</td>\n",
       "      <td>72.87541</td>\n",
       "    </tr>\n",
       "    <tr>\n",
       "      <th>4</th>\n",
       "      <td>Bhandup</td>\n",
       "      <td>0.043478</td>\n",
       "      <td>1</td>\n",
       "      <td>19.14556</td>\n",
       "      <td>72.94856</td>\n",
       "    </tr>\n",
       "  </tbody>\n",
       "</table>\n",
       "</div>"
      ],
      "text/plain": [
       "      Neighborhood  Shopping Mall  Cluster Labels  Latitude  Longitude\n",
       "36           Uttan       0.047619               1  26.86634   80.93884\n",
       "19      Kanjurmarg       0.034483               1  19.13138   72.93568\n",
       "38        Vikhroli       0.030000               1  19.11109   72.92781\n",
       "27          Mulund       0.038961               1  19.17183   72.95565\n",
       "34  Thakur village       0.034483               1  19.21020   72.87541\n",
       "4          Bhandup       0.043478               1  19.14556   72.94856"
      ]
     },
     "execution_count": 16,
     "metadata": {},
     "output_type": "execute_result"
    }
   ],
   "source": [
    "kl_merged.loc[kl_merged['Cluster Labels'] == 1]"
   ]
  },
  {
   "cell_type": "code",
   "execution_count": 17,
   "metadata": {},
   "outputs": [
    {
     "data": {
      "text/html": [
       "<div>\n",
       "<style scoped>\n",
       "    .dataframe tbody tr th:only-of-type {\n",
       "        vertical-align: middle;\n",
       "    }\n",
       "\n",
       "    .dataframe tbody tr th {\n",
       "        vertical-align: top;\n",
       "    }\n",
       "\n",
       "    .dataframe thead th {\n",
       "        text-align: right;\n",
       "    }\n",
       "</style>\n",
       "<table border=\"1\" class=\"dataframe\">\n",
       "  <thead>\n",
       "    <tr style=\"text-align: right;\">\n",
       "      <th></th>\n",
       "      <th>Neighborhood</th>\n",
       "      <th>Shopping Mall</th>\n",
       "      <th>Cluster Labels</th>\n",
       "      <th>Latitude</th>\n",
       "      <th>Longitude</th>\n",
       "    </tr>\n",
       "  </thead>\n",
       "  <tbody>\n",
       "    <tr>\n",
       "      <th>37</th>\n",
       "      <td>Vashi</td>\n",
       "      <td>0.020000</td>\n",
       "      <td>2</td>\n",
       "      <td>19.084650</td>\n",
       "      <td>72.904810</td>\n",
       "    </tr>\n",
       "    <tr>\n",
       "      <th>39</th>\n",
       "      <td>Wadala</td>\n",
       "      <td>0.020619</td>\n",
       "      <td>2</td>\n",
       "      <td>19.017200</td>\n",
       "      <td>72.858170</td>\n",
       "    </tr>\n",
       "    <tr>\n",
       "      <th>5</th>\n",
       "      <td>Borivali</td>\n",
       "      <td>0.010309</td>\n",
       "      <td>2</td>\n",
       "      <td>19.229360</td>\n",
       "      <td>72.857510</td>\n",
       "    </tr>\n",
       "    <tr>\n",
       "      <th>29</th>\n",
       "      <td>Pestom sagar</td>\n",
       "      <td>0.011765</td>\n",
       "      <td>2</td>\n",
       "      <td>19.070640</td>\n",
       "      <td>72.902170</td>\n",
       "    </tr>\n",
       "    <tr>\n",
       "      <th>7</th>\n",
       "      <td>Chembur</td>\n",
       "      <td>0.010000</td>\n",
       "      <td>2</td>\n",
       "      <td>19.062180</td>\n",
       "      <td>72.902410</td>\n",
       "    </tr>\n",
       "    <tr>\n",
       "      <th>9</th>\n",
       "      <td>Devipada</td>\n",
       "      <td>0.010989</td>\n",
       "      <td>2</td>\n",
       "      <td>19.224690</td>\n",
       "      <td>72.866050</td>\n",
       "    </tr>\n",
       "    <tr>\n",
       "      <th>40</th>\n",
       "      <td>Western Suburbs (Mumbai)</td>\n",
       "      <td>0.013514</td>\n",
       "      <td>2</td>\n",
       "      <td>19.197010</td>\n",
       "      <td>72.827680</td>\n",
       "    </tr>\n",
       "    <tr>\n",
       "      <th>12</th>\n",
       "      <td>Ghatkopar</td>\n",
       "      <td>0.012048</td>\n",
       "      <td>2</td>\n",
       "      <td>19.086523</td>\n",
       "      <td>72.909008</td>\n",
       "    </tr>\n",
       "    <tr>\n",
       "      <th>13</th>\n",
       "      <td>Goregaon</td>\n",
       "      <td>0.020000</td>\n",
       "      <td>2</td>\n",
       "      <td>19.164550</td>\n",
       "      <td>72.849460</td>\n",
       "    </tr>\n",
       "    <tr>\n",
       "      <th>33</th>\n",
       "      <td>Sonapur, Bhandup</td>\n",
       "      <td>0.023256</td>\n",
       "      <td>2</td>\n",
       "      <td>19.163940</td>\n",
       "      <td>72.935440</td>\n",
       "    </tr>\n",
       "    <tr>\n",
       "      <th>41</th>\n",
       "      <td>Worli</td>\n",
       "      <td>0.020000</td>\n",
       "      <td>2</td>\n",
       "      <td>19.007440</td>\n",
       "      <td>72.816880</td>\n",
       "    </tr>\n",
       "  </tbody>\n",
       "</table>\n",
       "</div>"
      ],
      "text/plain": [
       "                Neighborhood  Shopping Mall  Cluster Labels   Latitude  \\\n",
       "37                     Vashi       0.020000               2  19.084650   \n",
       "39                    Wadala       0.020619               2  19.017200   \n",
       "5                   Borivali       0.010309               2  19.229360   \n",
       "29              Pestom sagar       0.011765               2  19.070640   \n",
       "7                    Chembur       0.010000               2  19.062180   \n",
       "9                   Devipada       0.010989               2  19.224690   \n",
       "40  Western Suburbs (Mumbai)       0.013514               2  19.197010   \n",
       "12                 Ghatkopar       0.012048               2  19.086523   \n",
       "13                  Goregaon       0.020000               2  19.164550   \n",
       "33          Sonapur, Bhandup       0.023256               2  19.163940   \n",
       "41                     Worli       0.020000               2  19.007440   \n",
       "\n",
       "    Longitude  \n",
       "37  72.904810  \n",
       "39  72.858170  \n",
       "5   72.857510  \n",
       "29  72.902170  \n",
       "7   72.902410  \n",
       "9   72.866050  \n",
       "40  72.827680  \n",
       "12  72.909008  \n",
       "13  72.849460  \n",
       "33  72.935440  \n",
       "41  72.816880  "
      ]
     },
     "execution_count": 17,
     "metadata": {},
     "output_type": "execute_result"
    }
   ],
   "source": [
    "kl_merged.loc[kl_merged['Cluster Labels'] == 2]"
   ]
  },
  {
   "cell_type": "code",
   "execution_count": 18,
   "metadata": {},
   "outputs": [],
   "source": [
    "map_clusters.save('map_clusters.html')"
   ]
  },
  {
   "cell_type": "code",
   "execution_count": null,
   "metadata": {},
   "outputs": [],
   "source": []
  }
 ],
 "metadata": {
  "kernelspec": {
   "display_name": "Python 3",
   "language": "python",
   "name": "python3"
  },
  "language_info": {
   "codemirror_mode": {
    "name": "ipython",
    "version": 3
   },
   "file_extension": ".py",
   "mimetype": "text/x-python",
   "name": "python",
   "nbconvert_exporter": "python",
   "pygments_lexer": "ipython3",
   "version": "3.7.1"
  }
 },
 "nbformat": 4,
 "nbformat_minor": 2
}
